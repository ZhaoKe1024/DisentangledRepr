{
 "cells": [
  {
   "cell_type": "code",
   "execution_count": null,
   "id": "7ae11b71-0628-4aac-a3b4-e0b418f80bc3",
   "metadata": {},
   "outputs": [],
   "source": [
    "import os\n",
    "import sys\n",
    "sys.path.append('../')\n",
    "sys.path.append('C:/Program Files (zk)/PythonFiles/DisentangledRepr/')\n",
    "\n",
    "import random\n",
    "import torch\n",
    "import numpy as np\n",
    "from torch.autograd import Variable\n",
    "from torch.optim.lr_scheduler import StepLR\n",
    "from base_utils.dir_util import mkdirs\n",
    "from tqdm import tqdm"
   ]
  },
  {
   "cell_type": "code",
   "execution_count": null,
   "id": "3ca096d2-1150-4652-a78f-72cc826fd20c",
   "metadata": {},
   "outputs": [],
   "source": [
    "import idbsr_libs.config_mnist_rot as config\n",
    "from idbsr_libs.VIB_MNIST_ROT_whole_model import VariationalInformationBottleneck\n",
    "from idbsr_libs.Get_Datasets import get_datasets\n",
    "from idbsr_libs.Visualize import tsne_embedding_without_images\n",
    "from idbsr_libs.VIB_model import Weight_EMA"
   ]
  },
  {
   "cell_type": "code",
   "execution_count": null,
   "id": "341fa036-2e9a-4211-b07a-bb15f4d88c6d",
   "metadata": {},
   "outputs": [],
   "source": [
    "train_args = config.train_args()\n",
    "dataset_args = config.dataset_args()\n",
    "model_args = config.model_args()\n",
    "use_cuda = True"
   ]
  },
  {
   "cell_type": "code",
   "execution_count": null,
   "id": "05d189f4-4e4b-434a-9aee-c2775ff04d16",
   "metadata": {},
   "outputs": [],
   "source": [
    "train_args.gpu = 0\n",
    "init_seed = train_args.seed\n",
    "torch.manual_seed(init_seed)\n",
    "torch.cuda.manual_seed(init_seed)\n",
    "torch.cuda.manual_seed_all(init_seed)\n",
    "np.random.seed(init_seed)\n",
    "random.seed(init_seed)\n",
    "torch.backends.cudnn.deterministic = True\n",
    "torch.backends.cudnn.benchmark = True\n",
    "os.environ[\"CUDA_VISIBLE_DEVICES\"] = str(train_args.gpu)"
   ]
  },
  {
   "cell_type": "code",
   "execution_count": null,
   "id": "16583f35-4f71-49e6-bbe4-04bcb1656233",
   "metadata": {},
   "outputs": [],
   "source": []
  },
  {
   "cell_type": "code",
   "execution_count": null,
   "id": "35b8e449-1076-4763-9139-a1b1ba1b8133",
   "metadata": {},
   "outputs": [],
   "source": []
  },
  {
   "cell_type": "code",
   "execution_count": null,
   "id": "b2a23f18-b470-4a9f-9045-c3f10a391880",
   "metadata": {},
   "outputs": [],
   "source": []
  },
  {
   "cell_type": "code",
   "execution_count": null,
   "id": "6d55aabf-0261-4f98-80d8-e417c5a605b7",
   "metadata": {},
   "outputs": [],
   "source": []
  },
  {
   "cell_type": "code",
   "execution_count": null,
   "id": "95ab7313-6193-49e4-83b3-7b774f6bad73",
   "metadata": {},
   "outputs": [],
   "source": []
  }
 ],
 "metadata": {
  "kernelspec": {
   "display_name": "Python 3 (ipykernel)",
   "language": "python",
   "name": "python3"
  },
  "language_info": {
   "codemirror_mode": {
    "name": "ipython",
    "version": 3
   },
   "file_extension": ".py",
   "mimetype": "text/x-python",
   "name": "python",
   "nbconvert_exporter": "python",
   "pygments_lexer": "ipython3",
   "version": "3.8.5"
  }
 },
 "nbformat": 4,
 "nbformat_minor": 5
}
