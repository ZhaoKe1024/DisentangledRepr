{
 "cells": [
  {
   "cell_type": "code",
   "execution_count": 4,
   "id": "f0449d58-29f2-422b-b703-113ffcb6cd53",
   "metadata": {},
   "outputs": [],
   "source": [
    "import numpy as np\n",
    "import random\n",
    "import pandas as pd"
   ]
  },
  {
   "cell_type": "code",
   "execution_count": null,
   "id": "fbae1d7e-2038-40bc-9613-ffb3841885b0",
   "metadata": {},
   "outputs": [],
   "source": [
    "data_arr = np.array([[45, 1], [22, 0],[546, 0],[26, 0],[25, 1],[89, 1], [12, 0], [64, 0], [100, 0], [46, 0], [28, 0]])\n",
    "data_df = pd.DataFrame(data_arr, columns=[\"data\", \"label\"])\n",
    "print(data_df)"
   ]
  },
  {
   "cell_type": "code",
   "execution_count": 8,
   "id": "4dc5310f-2711-4eb9-a1bc-0dedc4caf0af",
   "metadata": {},
   "outputs": [],
   "source": [
    "def bin_upsampling_balance(data_df):\n",
    "    print(data_df)\n",
    "    df1 = data_df[data_df[\"label\"]==1]\n",
    "    df2 = data_df[data_df[\"label\"]==0]\n",
    "    res_df = None\n",
    "    if len(df1) > len(df2):\n",
    "        t = len(df1) // len(df2) - 1\n",
    "        r = len(df1) - len(df2)\n",
    "        print(\"t r\", t, r)\n",
    "        for i in range(t):\n",
    "            df1 = pd.concat((df1, df2))\n",
    "        res_df = pd.concat((df1, df2.iloc[:r, :]))\n",
    "    elif len(df2) > len(df1):\n",
    "        t = len(df2) // len(df1)\n",
    "        r = len(df2) % len(df1)\n",
    "        print(\"t r\", t, r)\n",
    "        for i in range(t):\n",
    "            df2 = pd.concat((df2, df1))\n",
    "        res_df = pd.concat((df2, df1.iloc[:r, :]))\n",
    "    else:\n",
    "        res_df = data_df\n",
    "    return res_df"
   ]
  },
  {
   "cell_type": "code",
   "execution_count": null,
   "id": "83cc7861-e597-4cde-bc38-1bd51923e0d6",
   "metadata": {},
   "outputs": [],
   "source": [
    "new_df = bin_upsampling(data_df)\n",
    "new_df"
   ]
  },
  {
   "cell_type": "code",
   "execution_count": 9,
   "id": "2fa55f79-d947-4656-a3cd-c8198e0a08f8",
   "metadata": {},
   "outputs": [
    {
     "name": "stdout",
     "output_type": "stream",
     "text": [
      "                                         melspectrogram  label  cough_type  \\\n",
      "92    [[-80.0, -80.0, -80.0, -80.0, -80.0, -80.0, -8...      0           1   \n",
      "1918  [[-80.0, -80.0, -80.0, -80.0, -80.0, -80.0, -8...      0           1   \n",
      "1946  [[-80.0, -80.0, -80.0, -80.0, -80.0, -80.0, -8...      0           1   \n",
      "1539  [[-80.0, -80.0, -80.0, -80.0, -80.0, -80.0, -8...      0           0   \n",
      "805   [[-80.0, -80.0, -80.0, -80.0, -80.0, -80.0, -8...      0           0   \n",
      "...                                                 ...    ...         ...   \n",
      "2665  [[-80.0, -80.0, -80.0, -80.0, -80.0, -80.0, -8...      1           1   \n",
      "2273  [[-80.0, -80.0, -80.0, -80.0, -80.0, -80.0, -8...      1           0   \n",
      "2088  [[-80.0, -80.0, -80.0, -80.0, -80.0, -80.0, -8...      1           0   \n",
      "2292  [[-80.0, -80.0, -80.0, -80.0, -80.0, -80.0, -8...      1           0   \n",
      "2246  [[-80.0, -80.0, -80.0, -80.0, -80.0, -80.0, -8...      1           0   \n",
      "\n",
      "      severity  fold  \n",
      "92           0     0  \n",
      "1918         2     3  \n",
      "1946         2     4  \n",
      "1539         1     9  \n",
      "805          0     1  \n",
      "...        ...   ...  \n",
      "2665         2     3  \n",
      "2273         0     2  \n",
      "2088         0     0  \n",
      "2292         0     4  \n",
      "2246         0     7  \n",
      "\n",
      "[2650 rows x 5 columns]\n",
      "t r 2 628\n"
     ]
    }
   ],
   "source": [
    "coughvid_df = pd.read_pickle(\"F:/DATAS/COUGHVID-public_dataset_v3/coughvid_split_specattri.pkl\")\n",
    "coughvid_df = coughvid_df.iloc[:, [0, 1, 2, 8, 9]]\n",
    "neg_list = list(range(2076))\n",
    "pos_list = list(range(2076, 2850))\n",
    "random.shuffle(neg_list)\n",
    "random.shuffle(pos_list)\n",
    "\n",
    "valid_list = neg_list[:100] + pos_list[:100]\n",
    "train_list = neg_list[100:] + pos_list[100:]\n",
    "train_df = bin_upsampling_balance(coughvid_df.iloc[train_list, :])"
   ]
  },
  {
   "cell_type": "code",
   "execution_count": 11,
   "id": "57e7df50-8da1-4b27-9b65-523dbe98f628",
   "metadata": {},
   "outputs": [
    {
     "name": "stdout",
     "output_type": "stream",
     "text": [
      "1976 1976\n"
     ]
    }
   ],
   "source": [
    "df1 = train_df[train_df[\"label\"]==1]\n",
    "df2 = train_df[train_df[\"label\"]==0]\n",
    "print(len(df1), len(df2))"
   ]
  }
 ],
 "metadata": {
  "kernelspec": {
   "display_name": "Python 3 (ipykernel)",
   "language": "python",
   "name": "python3"
  },
  "language_info": {
   "codemirror_mode": {
    "name": "ipython",
    "version": 3
   },
   "file_extension": ".py",
   "mimetype": "text/x-python",
   "name": "python",
   "nbconvert_exporter": "python",
   "pygments_lexer": "ipython3",
   "version": "3.8.5"
  }
 },
 "nbformat": 4,
 "nbformat_minor": 5
}
